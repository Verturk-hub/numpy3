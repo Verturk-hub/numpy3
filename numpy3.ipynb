{
 "cells": [
  {
   "cell_type": "code",
   "execution_count": 2,
   "source": [
    "import numpy as np\r\n",
    "from PIL import Image"
   ],
   "outputs": [],
   "metadata": {}
  },
  {
   "cell_type": "code",
   "execution_count": 6,
   "source": [
    "square = np.zeros((600,600))\r\n",
    "square[200:400, 200:400]=255\r\n",
    "square_img = Image.fromarray(square)\r\n",
    "square_img.show()"
   ],
   "outputs": [],
   "metadata": {}
  },
  {
   "cell_type": "code",
   "execution_count": 13,
   "source": [
    "red = np.zeros((600,600))\r\n",
    "green = np.zeros((600,600))\r\n",
    "blue = np.zeros((600,600))\r\n",
    "red[150:350, 150:350] = 255\r\n",
    "green[200:400, 200:400] = 255\r\n",
    "blue[250:450, 250:450] = 255\r\n",
    "\r\n",
    "red_img = Image.fromarray(red).convert('L')\r\n",
    "green_img = Image.fromarray(green).convert('L')\r\n",
    "blue_img = Image.fromarray(blue).convert('L')"
   ],
   "outputs": [],
   "metadata": {}
  },
  {
   "cell_type": "code",
   "execution_count": 14,
   "source": [
    "square_img = Image.merge(\"RGB\", (red_img, green_img, blue_img))\r\n",
    "square_img.show()"
   ],
   "outputs": [],
   "metadata": {}
  }
 ],
 "metadata": {
  "orig_nbformat": 4,
  "language_info": {
   "name": "python",
   "version": "3.8.3",
   "mimetype": "text/x-python",
   "codemirror_mode": {
    "name": "ipython",
    "version": 3
   },
   "pygments_lexer": "ipython3",
   "nbconvert_exporter": "python",
   "file_extension": ".py"
  },
  "kernelspec": {
   "name": "python3",
   "display_name": "Python 3.8.3 64-bit ('base': conda)"
  },
  "interpreter": {
   "hash": "46182d5f787c7496ac3d2ccd0c5d8bf41bffd3ac5e5e93146af501a7f382c533"
  }
 },
 "nbformat": 4,
 "nbformat_minor": 2
}